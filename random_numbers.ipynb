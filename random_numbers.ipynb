{
 "cells": [
  {
   "cell_type": "code",
   "execution_count": 2,
   "id": "799190ec",
   "metadata": {},
   "outputs": [],
   "source": [
    "# Import the random module.\n",
    "import random"
   ]
  },
  {
   "cell_type": "code",
   "execution_count": 3,
   "id": "d3d324a3",
   "metadata": {},
   "outputs": [
    {
     "data": {
      "text/plain": [
       "-64"
      ]
     },
     "execution_count": 3,
     "metadata": {},
     "output_type": "execute_result"
    }
   ],
   "source": [
    "random.randint(-90, 90)"
   ]
  },
  {
   "cell_type": "code",
   "execution_count": 4,
   "id": "56fe709a",
   "metadata": {},
   "outputs": [
    {
     "data": {
      "text/plain": [
       "0.8842944005902276"
      ]
     },
     "execution_count": 4,
     "metadata": {},
     "output_type": "execute_result"
    }
   ],
   "source": [
    "random.random()"
   ]
  },
  {
   "cell_type": "code",
   "execution_count": 8,
   "id": "5966f90d",
   "metadata": {},
   "outputs": [
    {
     "data": {
      "text/plain": [
       "-77.64252216432726"
      ]
     },
     "execution_count": 8,
     "metadata": {},
     "output_type": "execute_result"
    }
   ],
   "source": [
    "random_number = random.randint(-90, 89) + random.random()\n",
    "random_number"
   ]
  },
  {
   "cell_type": "code",
   "execution_count": 11,
   "id": "c791892b",
   "metadata": {},
   "outputs": [
    {
     "data": {
      "text/plain": [
       "[-60.907636549648124,\n",
       " -44.87986430468084,\n",
       " 53.96461275461671,\n",
       " -57.24505072048479,\n",
       " 38.31821346279512,\n",
       " 64.66011160451717,\n",
       " 16.357704510240584,\n",
       " 17.37562456658126,\n",
       " -6.393060037342151,\n",
       " 52.58564920907951]"
      ]
     },
     "execution_count": 11,
     "metadata": {},
     "output_type": "execute_result"
    }
   ],
   "source": [
    "x = 1\n",
    "latitudes = []\n",
    "while x < 11:\n",
    "    random_lat = random.randint(-90, 89) + random.random()\n",
    "    latitudes.append(random_lat)\n",
    "    x += 1\n",
    "    \n",
    "latitudes"
   ]
  },
  {
   "cell_type": "code",
   "execution_count": 12,
   "id": "3b0b975b",
   "metadata": {},
   "outputs": [
    {
     "data": {
      "text/plain": [
       "-51"
      ]
     },
     "execution_count": 12,
     "metadata": {},
     "output_type": "execute_result"
    }
   ],
   "source": [
    "random.randrange(-90, 90, step=3)"
   ]
  },
  {
   "cell_type": "code",
   "execution_count": 13,
   "id": "0adb7c4f",
   "metadata": {},
   "outputs": [
    {
     "data": {
      "text/plain": [
       "55.727183474171426"
      ]
     },
     "execution_count": 13,
     "metadata": {},
     "output_type": "execute_result"
    }
   ],
   "source": [
    "random.uniform(-90, 90)"
   ]
  },
  {
   "cell_type": "code",
   "execution_count": 14,
   "id": "a62c4f41",
   "metadata": {},
   "outputs": [],
   "source": [
    "# Import the NumPy module.\n",
    "import numpy as np"
   ]
  },
  {
   "cell_type": "code",
   "execution_count": 15,
   "id": "f5701ae9",
   "metadata": {},
   "outputs": [
    {
     "data": {
      "text/plain": [
       "-70.11936370853019"
      ]
     },
     "execution_count": 15,
     "metadata": {},
     "output_type": "execute_result"
    }
   ],
   "source": [
    "np.random.uniform(-90.000, 90.000)"
   ]
  },
  {
   "cell_type": "code",
   "execution_count": 16,
   "id": "21b84236",
   "metadata": {},
   "outputs": [
    {
     "data": {
      "text/plain": [
       "77.74648933464363"
      ]
     },
     "execution_count": 16,
     "metadata": {},
     "output_type": "execute_result"
    }
   ],
   "source": [
    "np.random.uniform(low=-90, high=90)"
   ]
  },
  {
   "cell_type": "code",
   "execution_count": 17,
   "id": "92a8606e",
   "metadata": {},
   "outputs": [
    {
     "data": {
      "text/plain": [
       "array([ 23.95822381, -62.06113551, -28.8662102 , -16.08381291,\n",
       "       -24.36062114,  30.20590579,   8.99368937, -71.80012388,\n",
       "        81.26488427, -78.41193716, -34.79074697, -70.35587547,\n",
       "       -65.76938439,  56.23156194,   8.84829931,  23.22850018,\n",
       "       -55.20547771, -39.31559598,  61.43673732,  31.81986995,\n",
       "        23.49240544,  28.45199491,  38.68482018, -59.81439952,\n",
       "        20.94955103,  44.00970531,   4.40115816, -55.9757866 ,\n",
       "         4.52802004, -72.2339999 ,   2.99213621, -45.72729978,\n",
       "        26.9230248 ,  45.53383547,  78.52362637,  58.21470208,\n",
       "        54.16819176,  -9.61573649,   8.6590829 ,   8.23156284,\n",
       "        48.9009688 , -84.97680164,  39.47898313,   1.69738959,\n",
       "        -7.87167254, -24.86579977,  45.0526198 , -42.41316413,\n",
       "        40.65245563,   5.34776284])"
      ]
     },
     "execution_count": 17,
     "metadata": {},
     "output_type": "execute_result"
    }
   ],
   "source": [
    "np.random.uniform(-90.000, 90.000, size=50)"
   ]
  },
  {
   "cell_type": "code",
   "execution_count": 18,
   "id": "dab369fb",
   "metadata": {},
   "outputs": [],
   "source": [
    "# Import timeit.\n",
    "import timeit"
   ]
  },
  {
   "cell_type": "code",
   "execution_count": 20,
   "id": "b288ac27",
   "metadata": {},
   "outputs": [
    {
     "name": "stdout",
     "output_type": "stream",
     "text": [
      "14.5 µs ± 521 ns per loop (mean ± std. dev. of 7 runs, 100000 loops each)\n"
     ]
    }
   ],
   "source": [
    "%timeit np.random.uniform(-90.000, 90.000, size=1500)"
   ]
  },
  {
   "cell_type": "code",
   "execution_count": 21,
   "id": "2fdb9e28",
   "metadata": {},
   "outputs": [
    {
     "name": "stdout",
     "output_type": "stream",
     "text": [
      "2.23 ms ± 180 µs per loop (mean ± std. dev. of 7 runs, 100 loops each)\n"
     ]
    }
   ],
   "source": [
    "def latitudes(size):\n",
    "    latitudes = []\n",
    "    x = 0\n",
    "    while x < (size):\n",
    "        random_lat = random.randint(-90, 90) + random.random()\n",
    "        latitudes.append(random_lat)\n",
    "        x += 1\n",
    "    return latitudes\n",
    "# Call the function with 1500.\n",
    "%timeit latitudes(1500)"
   ]
  },
  {
   "cell_type": "code",
   "execution_count": null,
   "id": "56b8384c",
   "metadata": {},
   "outputs": [],
   "source": []
  }
 ],
 "metadata": {
  "kernelspec": {
   "display_name": "PythonData",
   "language": "python",
   "name": "pythondata"
  },
  "language_info": {
   "codemirror_mode": {
    "name": "ipython",
    "version": 3
   },
   "file_extension": ".py",
   "mimetype": "text/x-python",
   "name": "python",
   "nbconvert_exporter": "python",
   "pygments_lexer": "ipython3",
   "version": "3.7.13"
  }
 },
 "nbformat": 4,
 "nbformat_minor": 5
}
